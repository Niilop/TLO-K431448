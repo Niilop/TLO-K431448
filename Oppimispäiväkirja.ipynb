{
 "cells": [
  {
   "cell_type": "markdown",
   "metadata": {},
   "source": [
    "JODA 2021 Oppimispäiväkirja\n",
    "Niilo Pääkkönen\n",
    "K431448"
   ]
  },
  {
   "cell_type": "markdown",
   "metadata": {},
   "source": [
    "# Viikko 1: Johdanto aihepiiriin ja suorittaminen\n",
    "\n",
    "\n",
    "### 1. Kerro osallistuitko viikon opetukseen ja kuvaa päiväkirjan laatimisessa käyttämäsi aineisto.\n",
    "Katsoin luennon tallenteen\n",
    "\n",
    "Datatieteilijän taitoja\n",
    "https://www.schoolofdatascience.amsterdam/news/skills-need-become-modern-data-scientist/\n",
    "\n",
    "Datatieteiden metrokartta\n",
    "http://nirvacana.com/thoughts/2013/07/08/becoming-a-data-scientist/\n",
    "\n",
    "Pythonin valmiita datasaettejä\n",
    "https://medium.com/analytics-vidhya/built-in-datasets-in-python-24adca42012c\n",
    "\n",
    "### 2. Tiivistä luentoviikon keskeiset asiat tekstiksi.\n",
    "\n",
    "Aloitusluennolla käytiin läpi kurssin käytännöt ja perehdyttiin siihen, mitä ylipäätään datatiede on. Itselleni aihe on todella kiinnostava, sillä tavoitteena olisi suorittaa tietojenkäsittelytieteiden Data Science maisterivaihe. Mielenkiintoista on myös nähdä, miten aikaisempien tilastokurssien käytäntöjä voin hyödyntää kurssilla. Olen myös käynyt Big Data johdatuskurssin, mistä on varmasti hyötyä tällä kurssilla.\n",
    "\n",
    "Datatieteen ideana on luoda datasta jotakin uutta informaatiota ja tietoa. Datatieteen avulla voidaan tuoda esille ongelmia, sekä niiden pohjalta määritellä ratkaisuja. Datatiede on hyvin monitieteistä. Se voidaan jakaa todella moneen eri alalajiin, mutta tärkeimmät osa-alueet ovat liiketoimintaosaaminen, ohjelmointi, tilastotieteet sekä viestintä ja visualisointi. Muita osa-alueita ovat esimerkiksi matematiikka, koneoppiminen ja big data. Datatieteet yhdistävät paljon vanhaa tietoa uusien teknologioiden kanssa. Tilastotieteissä useat käytännöt ja kaavat voivat olla kymmeniä tai jopa satoja vuosia vanhoja, mutta nykypäivän datan saatavuus ja prosessointimahdollisuudet luovat näille vanhoille menetelmille todella tehokkaita käyttömahdollisuuksia datatieteissä. \n",
    "\n",
    "Datatieteiden yksi tärkeimpiä työkaluja on ohjelmointi. Usein ongelmat ovat erittäin tarkoin määriteltyjä ja tulevat täysin toisistaan eroavista ympäristöistä, jolloin universaaleja ratkaisuja ei ole helppo löytää. Ohjelmointi tarjoaa erittäin laajaa joustavuutta jota datatieteissä tarvitaan. On olemassa erilaisia valmisvälineitä, mutta ne tuovat mukana useita ongelmia esimerkiksi huono toistettavuus, rajoittavuus,  joustavuuden puute, koodin huono hallittavuus sekä yhteisötuen puuttuminen.\n",
    "\n",
    "### 3. Kirjaa lisäksi ylös viisi oivallusta tai tärkeintä oppimaasi asiaa erilliseksi listaksi.\n",
    "\n",
    "   1. 80/20: Vaikka itselleni datan jalostus on suhteellisen tuttua, niin tuli hieman yllätykseksi kuinka suuren osanajasta se vie datatietelijän(tai engineerin) työtehtävistä\n",
    "    \n",
    "   2. Tärkeitä taitoja datatieteilijälle: Matematiikka ja tilastotiede, koodaaminen ja tietokannat, kommunikaatio ja visualisointi, domain knowledge.\n",
    "       \n",
    "   3. Valmiiden kirjastojen tärkeys: Itselläni oli aikaisemmin oletus, että datatieteet olisi itselleni liian matemaattista  ja haastavaa, mutta olen alkanut ymmärtämään, että ei tässä pyörää tarvitse keksiä uudelleen. Vaikka datatieteet voivat olla todella kompleksien algoritmien suunnittelua, niin siitä löytyy myös käytännönläheisempi puoli erilaisten valmiiden kirjastojen avulla.\n",
    "       \n",
    "   4. Datatieteiden osa-alueet\n",
    "    \n",
    "   5. Datan saatavuus ja sen luomat haasteet: Maailmassa on dataa uskomattomasti, mutta suurin osa niistä on yksityisillä yrityksillä käytössä.\n",
    "   \n",
    "### 4. Listaa yhdestä kolmeen kehityskohdetta tai flippausvinkkiä luentoviikolle.\n",
    "\n",
    "-Mahdollisesti jokin tutoriaali siihen, miten oppimispäiväkirja saataisiin tehtyä pelkästään jupyter notepadilla. Ehkä markdownin käyttö jupyterilla.\n",
    "\n",
    "### 5. Kokoa noin kymmenen koodirivin demo viikon aikana oppimastasi.\n",
    "Käydään läpi pandas kirjastoa ja sen toimintoja."
   ]
  },
  {
   "cell_type": "code",
   "execution_count": 2,
   "metadata": {
    "scrolled": true
   },
   "outputs": [
    {
     "data": {
      "text/plain": [
       "['__all__',\n",
       " '__builtins__',\n",
       " '__cached__',\n",
       " '__doc__',\n",
       " '__file__',\n",
       " '__loader__',\n",
       " '__name__',\n",
       " '__package__',\n",
       " '__path__',\n",
       " '__spec__',\n",
       " '_svmlight_format',\n",
       " 'base',\n",
       " 'california_housing',\n",
       " 'clear_data_home',\n",
       " 'covtype',\n",
       " 'dump_svmlight_file',\n",
       " 'fetch_20newsgroups',\n",
       " 'fetch_20newsgroups_vectorized',\n",
       " 'fetch_california_housing',\n",
       " 'fetch_covtype',\n",
       " 'fetch_kddcup99',\n",
       " 'fetch_lfw_pairs',\n",
       " 'fetch_lfw_people',\n",
       " 'fetch_mldata',\n",
       " 'fetch_olivetti_faces',\n",
       " 'fetch_openml',\n",
       " 'fetch_rcv1',\n",
       " 'fetch_species_distributions',\n",
       " 'get_data_home',\n",
       " 'kddcup99',\n",
       " 'lfw',\n",
       " 'load_boston',\n",
       " 'load_breast_cancer',\n",
       " 'load_diabetes',\n",
       " 'load_digits',\n",
       " 'load_files',\n",
       " 'load_iris',\n",
       " 'load_linnerud',\n",
       " 'load_sample_image',\n",
       " 'load_sample_images',\n",
       " 'load_svmlight_file',\n",
       " 'load_svmlight_files',\n",
       " 'load_wine',\n",
       " 'make_biclusters',\n",
       " 'make_blobs',\n",
       " 'make_checkerboard',\n",
       " 'make_circles',\n",
       " 'make_classification',\n",
       " 'make_friedman1',\n",
       " 'make_friedman2',\n",
       " 'make_friedman3',\n",
       " 'make_gaussian_quantiles',\n",
       " 'make_hastie_10_2',\n",
       " 'make_low_rank_matrix',\n",
       " 'make_moons',\n",
       " 'make_multilabel_classification',\n",
       " 'make_regression',\n",
       " 'make_s_curve',\n",
       " 'make_sparse_coded_signal',\n",
       " 'make_sparse_spd_matrix',\n",
       " 'make_sparse_uncorrelated',\n",
       " 'make_spd_matrix',\n",
       " 'make_swiss_roll',\n",
       " 'mldata',\n",
       " 'mldata_filename',\n",
       " 'olivetti_faces',\n",
       " 'openml',\n",
       " 'rcv1',\n",
       " 'samples_generator',\n",
       " 'species_distributions',\n",
       " 'svmlight_format',\n",
       " 'twenty_newsgroups']"
      ]
     },
     "execution_count": 2,
     "metadata": {},
     "output_type": "execute_result"
    }
   ],
   "source": [
    "#importataan pandas sekä sklearnin valmiita datasettejä\n",
    "import pandas as pd\n",
    "from sklearn import datasets\n",
    "\n",
    "#listataan datasettien nimet\n",
    "dir(datasets)\n"
   ]
  },
  {
   "cell_type": "code",
   "execution_count": 11,
   "metadata": {},
   "outputs": [
    {
     "data": {
      "text/html": [
       "<div>\n",
       "<style scoped>\n",
       "    .dataframe tbody tr th:only-of-type {\n",
       "        vertical-align: middle;\n",
       "    }\n",
       "\n",
       "    .dataframe tbody tr th {\n",
       "        vertical-align: top;\n",
       "    }\n",
       "\n",
       "    .dataframe thead th {\n",
       "        text-align: right;\n",
       "    }\n",
       "</style>\n",
       "<table border=\"1\" class=\"dataframe\">\n",
       "  <thead>\n",
       "    <tr style=\"text-align: right;\">\n",
       "      <th></th>\n",
       "      <th>sepal length (cm)</th>\n",
       "      <th>sepal width (cm)</th>\n",
       "      <th>petal length (cm)</th>\n",
       "      <th>petal width (cm)</th>\n",
       "    </tr>\n",
       "  </thead>\n",
       "  <tbody>\n",
       "    <tr>\n",
       "      <td>0</td>\n",
       "      <td>5.1</td>\n",
       "      <td>3.5</td>\n",
       "      <td>1.4</td>\n",
       "      <td>0.2</td>\n",
       "    </tr>\n",
       "    <tr>\n",
       "      <td>1</td>\n",
       "      <td>4.9</td>\n",
       "      <td>3.0</td>\n",
       "      <td>1.4</td>\n",
       "      <td>0.2</td>\n",
       "    </tr>\n",
       "    <tr>\n",
       "      <td>2</td>\n",
       "      <td>4.7</td>\n",
       "      <td>3.2</td>\n",
       "      <td>1.3</td>\n",
       "      <td>0.2</td>\n",
       "    </tr>\n",
       "    <tr>\n",
       "      <td>3</td>\n",
       "      <td>4.6</td>\n",
       "      <td>3.1</td>\n",
       "      <td>1.5</td>\n",
       "      <td>0.2</td>\n",
       "    </tr>\n",
       "    <tr>\n",
       "      <td>4</td>\n",
       "      <td>5.0</td>\n",
       "      <td>3.6</td>\n",
       "      <td>1.4</td>\n",
       "      <td>0.2</td>\n",
       "    </tr>\n",
       "  </tbody>\n",
       "</table>\n",
       "</div>"
      ],
      "text/plain": [
       "   sepal length (cm)  sepal width (cm)  petal length (cm)  petal width (cm)\n",
       "0                5.1               3.5                1.4               0.2\n",
       "1                4.9               3.0                1.4               0.2\n",
       "2                4.7               3.2                1.3               0.2\n",
       "3                4.6               3.1                1.5               0.2\n",
       "4                5.0               3.6                1.4               0.2"
      ]
     },
     "execution_count": 11,
     "metadata": {},
     "output_type": "execute_result"
    }
   ],
   "source": [
    "#valitaan load_iris datasetti ja luodaan siitä pandas dataframe\n",
    "iris_data = pd.DataFrame(datasets.load_iris().data)\n",
    "#määritellää sarakkeiden nimet\n",
    "iris_data.columns = datasets.load_iris().feature_names\n",
    "\n",
    "#tarkastellaan datasetin 5 ensimmäistä otosta\n",
    "iris_data.head(5)"
   ]
  },
  {
   "cell_type": "code",
   "execution_count": 16,
   "metadata": {},
   "outputs": [
    {
     "data": {
      "text/html": [
       "<div>\n",
       "<style scoped>\n",
       "    .dataframe tbody tr th:only-of-type {\n",
       "        vertical-align: middle;\n",
       "    }\n",
       "\n",
       "    .dataframe tbody tr th {\n",
       "        vertical-align: top;\n",
       "    }\n",
       "\n",
       "    .dataframe thead th {\n",
       "        text-align: right;\n",
       "    }\n",
       "</style>\n",
       "<table border=\"1\" class=\"dataframe\">\n",
       "  <thead>\n",
       "    <tr style=\"text-align: right;\">\n",
       "      <th></th>\n",
       "      <th>a</th>\n",
       "      <th>b</th>\n",
       "      <th>c</th>\n",
       "      <th>d</th>\n",
       "    </tr>\n",
       "  </thead>\n",
       "  <tbody>\n",
       "    <tr>\n",
       "      <td>0</td>\n",
       "      <td>5.1</td>\n",
       "      <td>3.5</td>\n",
       "      <td>1.4</td>\n",
       "      <td>0.2</td>\n",
       "    </tr>\n",
       "    <tr>\n",
       "      <td>1</td>\n",
       "      <td>4.9</td>\n",
       "      <td>3.0</td>\n",
       "      <td>1.4</td>\n",
       "      <td>0.2</td>\n",
       "    </tr>\n",
       "    <tr>\n",
       "      <td>2</td>\n",
       "      <td>4.7</td>\n",
       "      <td>3.2</td>\n",
       "      <td>1.3</td>\n",
       "      <td>0.2</td>\n",
       "    </tr>\n",
       "    <tr>\n",
       "      <td>3</td>\n",
       "      <td>4.6</td>\n",
       "      <td>3.1</td>\n",
       "      <td>1.5</td>\n",
       "      <td>0.2</td>\n",
       "    </tr>\n",
       "    <tr>\n",
       "      <td>4</td>\n",
       "      <td>5.0</td>\n",
       "      <td>3.6</td>\n",
       "      <td>1.4</td>\n",
       "      <td>0.2</td>\n",
       "    </tr>\n",
       "  </tbody>\n",
       "</table>\n",
       "</div>"
      ],
      "text/plain": [
       "     a    b    c    d\n",
       "0  5.1  3.5  1.4  0.2\n",
       "1  4.9  3.0  1.4  0.2\n",
       "2  4.7  3.2  1.3  0.2\n",
       "3  4.6  3.1  1.5  0.2\n",
       "4  5.0  3.6  1.4  0.2"
      ]
     },
     "execution_count": 16,
     "metadata": {},
     "output_type": "execute_result"
    }
   ],
   "source": [
    "#muutetaan sarakkeiden nimet \n",
    "iris_data.columns = ('a', 'b', 'c', 'd')\n",
    "iris_data.head(5)"
   ]
  },
  {
   "cell_type": "code",
   "execution_count": 22,
   "metadata": {},
   "outputs": [
    {
     "data": {
      "text/plain": [
       "0    5.1\n",
       "1    4.9\n",
       "2    4.7\n",
       "3    4.6\n",
       "4    5.0\n",
       "Name: a, dtype: float64"
      ]
     },
     "execution_count": 22,
     "metadata": {},
     "output_type": "execute_result"
    }
   ],
   "source": [
    "#tarkastellaan ensimmäistä saraketta\n",
    "iris_data['a'].head(5)"
   ]
  },
  {
   "cell_type": "markdown",
   "metadata": {},
   "source": []
  },
  {
   "cell_type": "markdown",
   "metadata": {},
   "source": [
    "# Viikko 2: Datan kerääminen ja jalostaminen\n",
    "\n",
    "\n",
    "### 1. Kerro osallistuitko viikon opetukseen ja kuvaa päiväkirjan laatimisessa käyttämäsi aineisto.\n",
    "Katsoin luennon tallenteen\n",
    "\n",
    "### 2. Tiivistä luentoviikon keskeiset asiat tekstiksi.\n",
    "\n",
    "Luennolla käsiteltiin datatieteen prosessia sekä siihen liittyvää datan keräämis -ja jalostamisvaihetta, ja niihin liittyviä ohjelmointitekniikoita. Luentokalvoissa esitetty Datatieteen prosessi sisältää 4 päävaihetta jotka ovat tideon esikäsittely, analyysi, reflektio ja tulosten viestiminen. Tässä kuvan mukaisessa prosessissa kuitenkin oletetaan, että dataa on ennalta varastoituna tietovarastossa. Heikko tietovarasto tuo esiin omia ongelmia, mutta niihin ei keskitytä tällä luennolla. Kerääminen ja jalostaminen on tärkeä Datatieteen prosessin vaihe. Kuten aikaisemmalla viikolla käsiteltiin, tämä vaihe vie suurimman osan datatieteen prosessiin käytettävästä ajasta. Prosessi on hyvin vuorovaikutteista eri vaiheiden välillä. On hyvin tyypillistä, että analyysistä seuraava reflektio voi muuttaa tutkimuskysymystä täysin. Kuvaan on merkitty vuoropuhelua analyysin ja reflektion välillä, mutta omasta mielestä vuoropuhelua voisi olla myös tiedon esikäsittelyvaiheen sekä analyysivaiheen välillä, sillä joskus analyysistä voidaan huomata virheitä datassa, joka johtaa datan uudelleen käsittelyyn. \n",
    "\n",
    "Data-analytiikka on nykypäivänä erittäin tärkeä osa yritysten toimintaa. Se on melkein jopa liian trendikästä siihen pisteeseen, että yritykset haluavat ottaa käyttöön näitä teknologioita ilman ymmärrystä koko prosessista. Esimerkiksi tekoäly jota halutaan nykyään tunkea joka paikkaan. Datan analysointi ei kuitenkaan tapahdu ilman aikaisempaa valmistelua. Dataa täytyy olla varastoituna riittävästi ja sen pitää olla sellaisessa muodossa, jota voidaan soveltaa esimerkiksi tilastollisiin menetelmiin. Prosessi vaatii monenlaisia osaajia ja heidän välistä vuorovaikutusta. Esimerkiksi datainsinööri välittää oikeanlaisen datan datatieteilijälle, joka taas välittää tulokset markkinoinnista vastaaville henkilöille. Oikein toteutettu datatieteen prosessi voi lisätä ymmärrystä liiketoimintaprosesseista, sekä parantaa yritysten suorituskykyä. Data-analytiikan liiketoimitnarelevanssi voidaan perustella analytiikan nelikentällä, joka koostuu kuvailevasta, diagnosoivasta, ennakoivasta ja ohjaavasta analytiikasta.\n",
    "\n",
    "Datan kerääminen ja jalostaminen siis mahdollistaa tämän analyysin. Ryömijät ja raapijat ovat eräitä datan keräämismenetelmiä, jossa data pyritään keräämään verkkosivujen kautta niin sanotusti pinnalta. Ryömijillä ja raapijoilla on oma tehtävänsä joiden yhteistyöllä pystytään keräämään verkosta paljon dataa.\n",
    "\n",
    "### Ryömijä\n",
    "\n",
    "- Saa lähtöpisteeksi verkkosivujen osoitteita ja alkaa käymään niitä läpi systemaattisesti\n",
    "- Ryömijän hakuavaruus kasvaa hakujonoon lisättyjen lähtöpisteen hyperlinkkien avulla\n",
    "- Ryömijöitä kontrolloidaan valinnalla, uudelleenkäynnillä, kohteliaisuudella, sekä rinnakkaistamisella\n",
    "\n",
    "### Raapija\n",
    "\n",
    "- Raapijat keräävät automatisoidusti tietoa verkkosivuilta\n",
    "- Tietoa kerätään ryömijöiltä saatujen parametrien mukaan\n",
    "- Tunnistavat verkkosivujen metaelementtejä esimerkiksi listauksia, jotka voidaan suoraan tallentaa tietorakenteisiin\n",
    "- Pandasilla on oma raapija joka tallentaa html taulukon dataframeksi\n",
    "\n",
    "Datan siivoamista ja hallitsemista toteutetaan Data wrangling:in avulla. Raakamuotoinen data muunnetaan siihen muotoon, jossa sitä voidaan käyttää oikeisiin tarkoituksiin. Yksinkertaisimpana esimerkkinä dataframessa string muotoisia numeroita, joiden avulla pitäisi saada laskettua jotakin. Nämä siis täytyy muuttaa koodikielen määritellyksi integer muuttujiksi. Ongelmana siivoamisessa on eri järjestelmissä käytetyt datatyypit, jotka voivat aiheuttaa yhteensopimattomuutta. Pahimmassa tapauksessa tätä tiettyä dataa ei voi käyttää ollenkaan.\n",
    "\n",
    "### 3. Kirjaa lisäksi ylös viisi oivallusta tai tärkeintä oppimaasi asiaa erilliseksi listaksi.\n",
    "1. Tajusin, että aikaisemmin käyttämäni pandasin read_html metodi on raapija.\n",
    "2. Datatieteen prosessin parempi ymmärrys ja sen mahdollinen hyödyntäminen harjoitustyössä.\n",
    "3. Verkkokauppa esimerkki oli mielenkiintoinen ja selitti hyvin, miten ryömijiä ja raapijoita voitaisiin käyttää yhdessä.\n",
    "4. Luento antoi selkeyttä harjoitustyön datan keräämisestä.\n",
    "5. Tietotyyppimuunnosten mieleen palautusta\n",
    "\n",
    "### 4. Listaa yhdestä kolmeen kehityskohdetta tai flippausvinkkiä luentoviikolle.\n",
    "Haluaisin tietoa siitä, miten paljon yrityksillä kannattaisi olla omaa dataa varastoituna ja kuinka pitkälle pääsee pelkästään ryömijillä ja raapijoilla \"ulkoisen\" datan käyttämisellä.\n",
    "\n",
    "### 5. Kokoa noin kymmenen koodirivin demo viikon aikana oppimastasi."
   ]
  },
  {
   "cell_type": "code",
   "execution_count": 17,
   "metadata": {},
   "outputs": [
    {
     "data": {
      "text/html": [
       "<div>\n",
       "<style scoped>\n",
       "    .dataframe tbody tr th:only-of-type {\n",
       "        vertical-align: middle;\n",
       "    }\n",
       "\n",
       "    .dataframe tbody tr th {\n",
       "        vertical-align: top;\n",
       "    }\n",
       "\n",
       "    .dataframe thead th {\n",
       "        text-align: right;\n",
       "    }\n",
       "</style>\n",
       "<table border=\"1\" class=\"dataframe\">\n",
       "  <thead>\n",
       "    <tr style=\"text-align: right;\">\n",
       "      <th></th>\n",
       "      <th>price</th>\n",
       "      <th>number_of_reviews</th>\n",
       "      <th>review_scores_rating</th>\n",
       "      <th>reviews_per_month</th>\n",
       "    </tr>\n",
       "  </thead>\n",
       "  <tbody>\n",
       "    <tr>\n",
       "      <td>0</td>\n",
       "      <td>$90.00</td>\n",
       "      <td>145</td>\n",
       "      <td>93.0</td>\n",
       "      <td>1.11</td>\n",
       "    </tr>\n",
       "    <tr>\n",
       "      <td>1</td>\n",
       "      <td>$28.00</td>\n",
       "      <td>27</td>\n",
       "      <td>89.0</td>\n",
       "      <td>0.34</td>\n",
       "    </tr>\n",
       "    <tr>\n",
       "      <td>2</td>\n",
       "      <td>$125.00</td>\n",
       "      <td>133</td>\n",
       "      <td>99.0</td>\n",
       "      <td>1.08</td>\n",
       "    </tr>\n",
       "    <tr>\n",
       "      <td>3</td>\n",
       "      <td>$33.00</td>\n",
       "      <td>292</td>\n",
       "      <td>97.0</td>\n",
       "      <td>2.27</td>\n",
       "    </tr>\n",
       "    <tr>\n",
       "      <td>4</td>\n",
       "      <td>$180.00</td>\n",
       "      <td>8</td>\n",
       "      <td>100.0</td>\n",
       "      <td>0.14</td>\n",
       "    </tr>\n",
       "  </tbody>\n",
       "</table>\n",
       "</div>"
      ],
      "text/plain": [
       "     price  number_of_reviews  review_scores_rating  reviews_per_month\n",
       "0   $90.00                145                  93.0               1.11\n",
       "1   $28.00                 27                  89.0               0.34\n",
       "2  $125.00                133                  99.0               1.08\n",
       "3   $33.00                292                  97.0               2.27\n",
       "4  $180.00                  8                 100.0               0.14"
      ]
     },
     "execution_count": 17,
     "metadata": {},
     "output_type": "execute_result"
    }
   ],
   "source": [
    "#Luodaan datasetti, joka sisältää hinnan, sekä dataa arvosteluista\n",
    "FILE = 'http://data.insideairbnb.com/germany/be/berlin/2020-03-17/data/listings.csv.gz'\n",
    "\n",
    "cols = ['price','reviews_per_month','number_of_reviews','review_scores_rating']\n",
    "\n",
    "df = pd.read_csv(FILE, usecols=cols, compression='infer')\n",
    "df.head(5)"
   ]
  },
  {
   "cell_type": "code",
   "execution_count": 38,
   "metadata": {},
   "outputs": [
    {
     "data": {
      "text/plain": [
       "price                   float64\n",
       "number_of_reviews         int64\n",
       "review_scores_rating    float64\n",
       "reviews_per_month       float64\n",
       "dtype: object"
      ]
     },
     "execution_count": 38,
     "metadata": {},
     "output_type": "execute_result"
    }
   ],
   "source": [
    "#Tarkastetaan muuttujien tyypit\n",
    "df.dtypes"
   ]
  },
  {
   "cell_type": "code",
   "execution_count": 44,
   "metadata": {},
   "outputs": [
    {
     "data": {
      "text/plain": [
       "price                   False\n",
       "number_of_reviews       False\n",
       "review_scores_rating     True\n",
       "reviews_per_month        True\n",
       "dtype: bool"
      ]
     },
     "execution_count": 44,
     "metadata": {},
     "output_type": "execute_result"
    }
   ],
   "source": [
    "#tarkastellaan dataa, löytyykö sieltä virheellisiä arvoja jotka voisivat olla haitallisia\n",
    "#suoraan kopioitu, mutta toimii niin kuin haluan\n",
    "df.isnull().any()"
   ]
  },
  {
   "cell_type": "code",
   "execution_count": 46,
   "metadata": {},
   "outputs": [
    {
     "data": {
      "text/plain": [
       "price                   False\n",
       "number_of_reviews       False\n",
       "review_scores_rating    False\n",
       "reviews_per_month       False\n",
       "dtype: bool"
      ]
     },
     "execution_count": 46,
     "metadata": {},
     "output_type": "execute_result"
    }
   ],
   "source": [
    "#review_scores_rating ja reviews_per_month sisältää null arvoja\n",
    "df = df.fillna(method='ffill')\n",
    "df.isnull().any()"
   ]
  },
  {
   "cell_type": "code",
   "execution_count": 47,
   "metadata": {},
   "outputs": [
    {
     "data": {
      "text/plain": [
       "0     90.0\n",
       "1     28.0\n",
       "2    125.0\n",
       "3     33.0\n",
       "4    180.0\n",
       "Name: price, dtype: float64"
      ]
     },
     "execution_count": 47,
     "metadata": {},
     "output_type": "execute_result"
    }
   ],
   "source": [
    "#muutetaan hinta float tyyppiseksi ja poistetaan niistä nolla arvot\n",
    "df[\"price\"] = df[\"price\"].replace('[\\$,]', '', regex=True).astype(float)\n",
    "df = df[df.price != 0]\n",
    "df.price.head(5)"
   ]
  },
  {
   "cell_type": "markdown",
   "metadata": {},
   "source": [
    "# Viikko 3: Koneoppimisen periaatteet\n",
    "\n",
    "\n",
    "## 1. Kerro osallistuitko viikon opetukseen ja kuvaa päiväkirjan laatimisessa käyttämäsi aineisto.\n",
    "Katsoin luennon tallenteen\n",
    "## 2. Tiivistä luentoviikon keskeiset asiat tekstiksi.\n",
    "\n",
    "### Koneoppiminen rooli ja sen periaatteet\n",
    "Koneoppiminen on realistisesti heikkoa ja kapeaa. Usein koneoppimisohjelmalla on yksi tarkoin määritelty tehtävä, johon käytetään siihen tehtävään soveltuvaa dataa. Koneoppimisella voidaan toteuttaa erittäin rajoitetusti muutamia \"älykkäitä\" toimintoja. Koneoppiminen perustuu syötedatasta muodostettuihin päätelmiin. Esimerkiksi lineaarisessa regressiossa luodaan syötedatan avulla malli, jolla voidaan tehdä ennustuksia.\n",
    "\n",
    "Tekoälyä käytetään melko laajasti yhteiskunnassa esimerkiksi terveydenhoidossa, teollisuudessa ja eri palveluiden toiminnoissa esimerkiksi liike, ääni, teksti ja kuvat. Tekoäly on tällä hetkellä erittäin trendikästä ja yritysten suosiossa, mutta todellisuudessa sen järjestäminen voi olla erittäin resurssi raskasta ja siitä on vaikeaa tehdö kannattavaa liiketoimintamallia.\n",
    "\n",
    "Koneoppiminen jaetaan eri osa-alueisiin joita ovat ohjattu oppiminen, ohjaamaton oppiminen, puoliohjattu oppiminen, vahvistusoppiminen, sekä syväoppiminen. Yleisimpinä ovat luennolla käsitelty ohjattu oppiminen, sekä ohjaamaton oppiminen.\n",
    "\n",
    "\n",
    "### Ohjattu oppiminen\n",
    "Ohjattu oppiminen perustuu syötedataan, eli piirteisiin. Mallille syötetään sille tarkoin määriteltyä dataa, jolloin kone pystyy tekemään niistä jotakin johtopäätelmiä. Ohjatussa oppimisessa ei suinkaan pyritä korvaamaan ihmistä, vaan halutaan opettaa kone tekemään rutiinitoimintoja. Raakadatasta erotettavat piirteet jaetaan ennustettaviin ja ennustaviin muuttujiin jotka sijoitetaan piirrematriisiin. Piirteet voivat olla binäärisiä, kategorioita tai jatkuvia. Matriisi syötetään koneoppimisalgoritmiin jolloin lopputulokseksi tulee johtopäätöksiä siitä, miten selittävät piirteet X vaikuttavat selitettävään piirteeseen Y.\n",
    "\n",
    "Ohjattua oppimista on esimerkiksi:\n",
    "- lineaarinen regressio\n",
    "- letter recognition\n",
    "- speech to text\n",
    "\n",
    "### Regression vaiheet\n",
    "- Erotellaan datasta piirteitä ja jalostetaan niitä sopiviksi.\n",
    "- Piirteistä tehdään johtopäätöksiä: mitkä piirteet voisivat liittyä toisiinsa?\n",
    "- Määritellään selitettävä muuttuja Y ja selittävä muuttuja X ja tehdään näiden perusteella mallille nollahypoteesi. Monimuuttuja regressiossa määritellään useampi X muuttuja.\n",
    "- Analysoidaan lopputuloksia, tavoitteena saada malli joka selittää Y:n vaihtelua mahdollisimman hyvin. Selittäviä muuttujia voidaan karsia esimerkiksi niiden P-arvojen mukaan.\n",
    "- Todetaan analyysin mukaan onko malli tilastollisesti merkitsevä ja hylätäänkö nollahypoteesi.\n",
    "- Mallilla tehdään ennustuksia uusien syötteiden perusteella.\n",
    "\n",
    "### Ohjaamaton oppiminen\n",
    "Ohjaamaton oppiminen perustuu säännönmukaisuuksien etsimiseen sellaisessa ympäristössä, missä ratkaisuja ei tunneta etukäteen.\n",
    "\n",
    "## 3. Kirjaa lisäksi ylös viisi oivallusta tai tärkeintä oppimaasi asiaa erilliseksi listaksi.\n",
    "1. Tilastotieteiden kursseilta tutun lineaarisen regression työvaiheiden kertaaminen oli hyödyllistä.\n",
    "2. Olen tehnyt lineaarista regressiota vain R:llä, joten itselleni tärkeää nähdä miten tätä tehdään klassisemmassa koodauksessa.\n",
    "3. Luennolta hyviä esimerkkejä, miten käytännössä voi käyttää ryömijiä ja raapijoita koneoppimisen kanssa.\n",
    "4. Sain selkeyttä harjoitstyön koneoppimisvaiheen tekemiseen.\n",
    "5. Sain laitettua oppimispäiväkirjan gittiin.\n",
    "\n",
    "## 4. Listaa yhdestä kolmeen kehityskohdetta tai flippausvinkkiä luentoviikolle.\n",
    "Ohjaamattomasta oppimisesta olisi voinut laittaa esimerkkejä.\n",
    "\n",
    "## 5. Kokoa noin kymmenen koodirivin demo viikon aikana oppimastasi.\n",
    "Käytetään aikaisemman viikon dataframea ja luodaan siitä monimuuttuja regressiomalli."
   ]
  },
  {
   "cell_type": "code",
   "execution_count": 41,
   "metadata": {},
   "outputs": [
    {
     "data": {
      "text/html": [
       "<div>\n",
       "<style scoped>\n",
       "    .dataframe tbody tr th:only-of-type {\n",
       "        vertical-align: middle;\n",
       "    }\n",
       "\n",
       "    .dataframe tbody tr th {\n",
       "        vertical-align: top;\n",
       "    }\n",
       "\n",
       "    .dataframe thead th {\n",
       "        text-align: right;\n",
       "    }\n",
       "</style>\n",
       "<table border=\"1\" class=\"dataframe\">\n",
       "  <thead>\n",
       "    <tr style=\"text-align: right;\">\n",
       "      <th></th>\n",
       "      <th>price</th>\n",
       "      <th>number_of_reviews</th>\n",
       "      <th>review_scores_rating</th>\n",
       "      <th>reviews_per_month</th>\n",
       "    </tr>\n",
       "  </thead>\n",
       "  <tbody>\n",
       "    <tr>\n",
       "      <td>price</td>\n",
       "      <td>1.000000</td>\n",
       "      <td>0.000595</td>\n",
       "      <td>-0.005508</td>\n",
       "      <td>0.034301</td>\n",
       "    </tr>\n",
       "    <tr>\n",
       "      <td>number_of_reviews</td>\n",
       "      <td>0.000595</td>\n",
       "      <td>1.000000</td>\n",
       "      <td>-0.000244</td>\n",
       "      <td>0.654977</td>\n",
       "    </tr>\n",
       "    <tr>\n",
       "      <td>review_scores_rating</td>\n",
       "      <td>-0.005508</td>\n",
       "      <td>-0.000244</td>\n",
       "      <td>1.000000</td>\n",
       "      <td>0.010573</td>\n",
       "    </tr>\n",
       "    <tr>\n",
       "      <td>reviews_per_month</td>\n",
       "      <td>0.034301</td>\n",
       "      <td>0.654977</td>\n",
       "      <td>0.010573</td>\n",
       "      <td>1.000000</td>\n",
       "    </tr>\n",
       "  </tbody>\n",
       "</table>\n",
       "</div>"
      ],
      "text/plain": [
       "                         price  number_of_reviews  review_scores_rating  \\\n",
       "price                 1.000000           0.000595             -0.005508   \n",
       "number_of_reviews     0.000595           1.000000             -0.000244   \n",
       "review_scores_rating -0.005508          -0.000244              1.000000   \n",
       "reviews_per_month     0.034301           0.654977              0.010573   \n",
       "\n",
       "                      reviews_per_month  \n",
       "price                          0.034301  \n",
       "number_of_reviews              0.654977  \n",
       "review_scores_rating           0.010573  \n",
       "reviews_per_month              1.000000  "
      ]
     },
     "execution_count": 41,
     "metadata": {},
     "output_type": "execute_result"
    }
   ],
   "source": [
    "\n",
    "#tarkistetaan muuttujien korrelaatio\n",
    "df.corr(method = 'pearson')"
   ]
  },
  {
   "cell_type": "code",
   "execution_count": 51,
   "metadata": {},
   "outputs": [
    {
     "name": "stdout",
     "output_type": "stream",
     "text": [
      "Intercept: \n",
      " [55.91021442]\n",
      "Coefficients: \n",
      " [[-0.16885509  0.12888101  9.49158913]]\n",
      "R^2: \n",
      " 0.0025208205614001278\n"
     ]
    }
   ],
   "source": [
    "#näyttää siltä, että mikään ei juurikaan korreloi hinnan kanssa\n",
    "#tehdään silti harjoitukseski regressiomalli\n",
    "from sklearn import linear_model\n",
    "\n",
    "#Määritellää selitettävä Y ja selittävät muuttujat X\n",
    "Y = df[['price']]\n",
    "X = df[['number_of_reviews', 'review_scores_rating', 'reviews_per_month']]\n",
    "\n",
    "#Luodaan malli ja sovitetaan data siihen\n",
    "malli = linear_model.LinearRegression()\n",
    "malli.fit(X,Y)\n",
    "\n",
    "#Statistiikkaa\n",
    "print('Intercept: \\n', malli.intercept_)\n",
    "print('Coefficients: \\n', malli.coef_)\n",
    "print('R^2: \\n', malli.score(X,Y))"
   ]
  },
  {
   "cell_type": "markdown",
   "metadata": {},
   "source": [
    "# Viikko 4: Harjoitustyöhön tutustuminen\n",
    "\n",
    "\n",
    "### 1. Kerro osallistuitko viikon opetukseen ja kuvaa päiväkirjan laatimisessa käyttämäsi aineisto.\n",
    "### 2. Tiivistä luentoviikon keskeiset asiat tekstiksi.\n",
    "### 3. Kirjaa lisäksi ylös viisi oivallusta tai tärkeintä oppimaasi asiaa erilliseksi listaksi.\n",
    "### 4. Listaa yhdestä kolmeen kehityskohdetta tai flippausvinkkiä luentoviikolle.\n",
    "### 5. Kokoa noin kymmenen koodirivin demo viikon aikana oppimastasi."
   ]
  },
  {
   "cell_type": "markdown",
   "metadata": {},
   "source": [
    "# Viikko 5: Vierailuluento luonnollisen kielen analyysistä\n",
    "\n",
    "\n",
    "### 1. Kerro osallistuitko viikon opetukseen ja kuvaa päiväkirjan laatimisessa käyttämäsi aineisto.\n",
    "### 2. Tiivistä luentoviikon keskeiset asiat tekstiksi.\n",
    "### 3. Kirjaa lisäksi ylös viisi oivallusta tai tärkeintä oppimaasi asiaa erilliseksi listaksi.\n",
    "### 4. Listaa yhdestä kolmeen kehityskohdetta tai flippausvinkkiä luentoviikolle.\n",
    "### 5. Kokoa noin kymmenen koodirivin demo viikon aikana oppimastasi."
   ]
  },
  {
   "cell_type": "markdown",
   "metadata": {},
   "source": [
    "# Viikko 6: Ohjaamaton koneoppiminen\n",
    "\n",
    "\n",
    "### 1. Kerro osallistuitko viikon opetukseen ja kuvaa päiväkirjan laatimisessa käyttämäsi aineisto.\n",
    "### 2. Tiivistä luentoviikon keskeiset asiat tekstiksi.\n",
    "### 3. Kirjaa lisäksi ylös viisi oivallusta tai tärkeintä oppimaasi asiaa erilliseksi listaksi.\n",
    "### 4. Listaa yhdestä kolmeen kehityskohdetta tai flippausvinkkiä luentoviikolle.\n",
    "### 5. Kokoa noin kymmenen koodirivin demo viikon aikana oppimastasi."
   ]
  },
  {
   "cell_type": "markdown",
   "metadata": {},
   "source": [
    "# Viikko 7: Visuaalinen analytiikka\n",
    "\n",
    "\n",
    "### 1. Kerro osallistuitko viikon opetukseen ja kuvaa päiväkirjan laatimisessa käyttämäsi aineisto.\n",
    "### 2. Tiivistä luentoviikon keskeiset asiat tekstiksi.\n",
    "### 3. Kirjaa lisäksi ylös viisi oivallusta tai tärkeintä oppimaasi asiaa erilliseksi listaksi.\n",
    "### 4. Listaa yhdestä kolmeen kehityskohdetta tai flippausvinkkiä luentoviikolle.\n",
    "### 5. Kokoa noin kymmenen koodirivin demo viikon aikana oppimastasi."
   ]
  },
  {
   "cell_type": "code",
   "execution_count": null,
   "metadata": {},
   "outputs": [],
   "source": []
  }
 ],
 "metadata": {
  "kernelspec": {
   "display_name": "Python 3",
   "language": "python",
   "name": "python3"
  },
  "language_info": {
   "codemirror_mode": {
    "name": "ipython",
    "version": 3
   },
   "file_extension": ".py",
   "mimetype": "text/x-python",
   "name": "python",
   "nbconvert_exporter": "python",
   "pygments_lexer": "ipython3",
   "version": "3.7.4"
  }
 },
 "nbformat": 4,
 "nbformat_minor": 2
}
