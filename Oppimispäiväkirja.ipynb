{
 "cells": [
  {
   "cell_type": "markdown",
   "metadata": {},
   "source": [
    "Tämä on oppimispäiväkirja 2.0"
   ]
  },
  {
   "cell_type": "markdown",
   "metadata": {},
   "source": [
    "Tässä on tekstiä"
   ]
  },
  {
   "cell_type": "code",
   "execution_count": 2,
   "metadata": {
    "scrolled": true
   },
   "outputs": [
    {
     "name": "stdout",
     "output_type": "stream",
     "text": [
      "Tässä on koodia\n"
     ]
    }
   ],
   "source": [
    "print(\"Tässä on koodia\")"
   ]
  },
  {
   "cell_type": "markdown",
   "metadata": {},
   "source": [
    "Viikko 1\n",
    "\n",
    "\n",
    "1. Kerro osallistuitko viikon opetukseen ja kuvaa päiväkirjan laatimisessa käyttämäsi aineisto.\n",
    "Katsoin luennon tallenteen\n",
    "\n",
    "Datatieteilijän taitoja\n",
    "https://www.schoolofdatascience.amsterdam/news/skills-need-become-modern-data-scientist/\n",
    "\n",
    "Datatieteiden metrokartta\n",
    "http://nirvacana.com/thoughts/2013/07/08/becoming-a-data-scientist/\n",
    "\n",
    "Pythonin valmiita datasaettejä\n",
    "https://medium.com/analytics-vidhya/built-in-datasets-in-python-24adca42012c\n",
    "\n",
    "2. Tiivistä luentoviikon keskeiset asiat tekstiksi.\n",
    "\n",
    "Aloitusluennolla käytiin läpi kurssin käytännöt ja perehdyttiin siihen, mitä ylipäätään datatiede on. Itselleni aihe on todella kiinnostava, sillä tavoitteena olisi suorittaa tietojenkäsittelytieteiden Data Science maisterivaihe. Mielenkiintoista on myös nähdä, miten aikaisempien tilastokurssien käytäntöjä voin hyödyntää kurssilla. Olen myös käynyt Big Data johdatuskurssin, mistä on varmasti hyötyä tällä kurssilla.\n",
    "\n",
    "Datatieteen ideana on luoda datasta jotakin uutta informaatiota ja tietoa. Datatieteen avulla voidaan tuoda esille ongelmia, sekä niiden pohjalta määritellä ratkaisuja. Datatiede on hyvin monitieteistä. Se voidaan jakaa todella moneen eri alalajiin, mutta tärkeimmät osa-alueet ovat liiketoimintaosaaminen, ohjelmointi, tilastotieteet sekä viestintä ja visualisointi. Muita osa-alueita ovat esimerkiksi matematiikka, koneoppiminen ja big data. Datatieteet yhdistävät paljon vanhaa tietoa uusien teknologioiden kanssa. Tilastotieteissä useat käytännöt ja kaavat voivat olla kymmeniä tai jopa satoja vuosia vanhoja, mutta nykypäivän datan saatavuus ja prosessointimahdollisuudet luovat näille vanhoille menetelmille todella tehokkaita käyttömahdollisuuksia datatieteissä. \n",
    "\n",
    "Datatieteiden yksi tärkeimpiä työkaluja on ohjelmointi. Usein ongelmat ovat erittäin tarkoin määriteltyjä ja tulevat täysin toisistaan eroavista ympäristöistä, jolloin universaaleja ratkaisuja ei ole helppo löytää. Ohjelmointi tarjoaa erittäin laajaa joustavuutta jota datatieteissä tarvitaan. On olemassa erilaisia valmisvälineitä, mutta ne tuovat mukana useita ongelmia esimerkiksi huono toistettavuus, rajoittavuus,  joustavuuden puute, koodin huono hallittavuus sekä yhteisötuen puuttuminen.\n",
    "\n",
    "3. Kirjaa lisäksi ylös viisi oivallusta tai tärkeintä oppimaasi asiaa erilliseksi listaksi.\n",
    "\n",
    "   1. 80/20: Vaikka itselleni datan jalostus on suhteellisen tuttua, niin tuli hieman yllätykseksi kuinka suuren osanajasta se vie datatietelijän(tai engineerin) työtehtävistä\n",
    "    \n",
    "   2. Tärkeitä taitoja datatieteilijälle: Matematiikka ja tilastotiede, koodaaminen ja tietokannat, kommunikaatio ja visualisointi, domain knowledge.\n",
    "       \n",
    "   3. Valmiiden kirjastojen tärkeys: Itselläni oli aikaisemmin oletus, että datatieteet olisi itselleni liian matemaattista  ja haastavaa, mutta olen alkanut ymmärtämään, että ei tässä pyörää tarvitse keksiä uudelleen. Vaikka datatieteet voivat olla todella kompleksien algoritmien suunnittelua, niin siitä löytyy myös käytännönläheisempi puoli erilaisten valmiiden kirjastojen avulla.\n",
    "       \n",
    "   4. Datatieteiden osa-alueet\n",
    "    \n",
    "   5. Datan saatavuus ja sen luomat haasteet: Maailmassa on dataa uskomattomasti, mutta suurin osa niistä on yksityisillä yrityksillä käytössä.\n",
    "   \n",
    "4. Listaa yhdestä kolmeen kehityskohdetta tai flippausvinkkiä luentoviikolle.\n",
    "\n",
    "-Mahdollisesti jokin tutoriaali siihen, miten oppimispäiväkirja saataisiin tehtyä pelkästään jupyter notepadilla. Ehkä markdownin käyttö jupyterilla.\n",
    "\n",
    "5. Kokoa noin kymmenen koodirivin demo viikon aikana oppimastasi.\n",
    "Käydään läpi pandas kirjastoa ja sen toimintoja."
   ]
  },
  {
   "cell_type": "code",
   "execution_count": 5,
   "metadata": {
    "scrolled": true
   },
   "outputs": [
    {
     "data": {
      "text/plain": [
       "['__all__',\n",
       " '__builtins__',\n",
       " '__cached__',\n",
       " '__doc__',\n",
       " '__file__',\n",
       " '__loader__',\n",
       " '__name__',\n",
       " '__package__',\n",
       " '__path__',\n",
       " '__spec__',\n",
       " '_svmlight_format',\n",
       " 'base',\n",
       " 'california_housing',\n",
       " 'clear_data_home',\n",
       " 'covtype',\n",
       " 'dump_svmlight_file',\n",
       " 'fetch_20newsgroups',\n",
       " 'fetch_20newsgroups_vectorized',\n",
       " 'fetch_california_housing',\n",
       " 'fetch_covtype',\n",
       " 'fetch_kddcup99',\n",
       " 'fetch_lfw_pairs',\n",
       " 'fetch_lfw_people',\n",
       " 'fetch_mldata',\n",
       " 'fetch_olivetti_faces',\n",
       " 'fetch_openml',\n",
       " 'fetch_rcv1',\n",
       " 'fetch_species_distributions',\n",
       " 'get_data_home',\n",
       " 'kddcup99',\n",
       " 'lfw',\n",
       " 'load_boston',\n",
       " 'load_breast_cancer',\n",
       " 'load_diabetes',\n",
       " 'load_digits',\n",
       " 'load_files',\n",
       " 'load_iris',\n",
       " 'load_linnerud',\n",
       " 'load_sample_image',\n",
       " 'load_sample_images',\n",
       " 'load_svmlight_file',\n",
       " 'load_svmlight_files',\n",
       " 'load_wine',\n",
       " 'make_biclusters',\n",
       " 'make_blobs',\n",
       " 'make_checkerboard',\n",
       " 'make_circles',\n",
       " 'make_classification',\n",
       " 'make_friedman1',\n",
       " 'make_friedman2',\n",
       " 'make_friedman3',\n",
       " 'make_gaussian_quantiles',\n",
       " 'make_hastie_10_2',\n",
       " 'make_low_rank_matrix',\n",
       " 'make_moons',\n",
       " 'make_multilabel_classification',\n",
       " 'make_regression',\n",
       " 'make_s_curve',\n",
       " 'make_sparse_coded_signal',\n",
       " 'make_sparse_spd_matrix',\n",
       " 'make_sparse_uncorrelated',\n",
       " 'make_spd_matrix',\n",
       " 'make_swiss_roll',\n",
       " 'mldata',\n",
       " 'mldata_filename',\n",
       " 'olivetti_faces',\n",
       " 'openml',\n",
       " 'rcv1',\n",
       " 'samples_generator',\n",
       " 'species_distributions',\n",
       " 'svmlight_format',\n",
       " 'twenty_newsgroups']"
      ]
     },
     "execution_count": 5,
     "metadata": {},
     "output_type": "execute_result"
    }
   ],
   "source": [
    "#importataan pandas sekä sklearnin valmiita datasettejä\n",
    "import pandas as pd\n",
    "from sklearn import datasets\n",
    "\n",
    "#listataan datasettien nimet\n",
    "dir(datasets)\n"
   ]
  },
  {
   "cell_type": "code",
   "execution_count": 11,
   "metadata": {},
   "outputs": [
    {
     "data": {
      "text/html": [
       "<div>\n",
       "<style scoped>\n",
       "    .dataframe tbody tr th:only-of-type {\n",
       "        vertical-align: middle;\n",
       "    }\n",
       "\n",
       "    .dataframe tbody tr th {\n",
       "        vertical-align: top;\n",
       "    }\n",
       "\n",
       "    .dataframe thead th {\n",
       "        text-align: right;\n",
       "    }\n",
       "</style>\n",
       "<table border=\"1\" class=\"dataframe\">\n",
       "  <thead>\n",
       "    <tr style=\"text-align: right;\">\n",
       "      <th></th>\n",
       "      <th>sepal length (cm)</th>\n",
       "      <th>sepal width (cm)</th>\n",
       "      <th>petal length (cm)</th>\n",
       "      <th>petal width (cm)</th>\n",
       "    </tr>\n",
       "  </thead>\n",
       "  <tbody>\n",
       "    <tr>\n",
       "      <td>0</td>\n",
       "      <td>5.1</td>\n",
       "      <td>3.5</td>\n",
       "      <td>1.4</td>\n",
       "      <td>0.2</td>\n",
       "    </tr>\n",
       "    <tr>\n",
       "      <td>1</td>\n",
       "      <td>4.9</td>\n",
       "      <td>3.0</td>\n",
       "      <td>1.4</td>\n",
       "      <td>0.2</td>\n",
       "    </tr>\n",
       "    <tr>\n",
       "      <td>2</td>\n",
       "      <td>4.7</td>\n",
       "      <td>3.2</td>\n",
       "      <td>1.3</td>\n",
       "      <td>0.2</td>\n",
       "    </tr>\n",
       "    <tr>\n",
       "      <td>3</td>\n",
       "      <td>4.6</td>\n",
       "      <td>3.1</td>\n",
       "      <td>1.5</td>\n",
       "      <td>0.2</td>\n",
       "    </tr>\n",
       "    <tr>\n",
       "      <td>4</td>\n",
       "      <td>5.0</td>\n",
       "      <td>3.6</td>\n",
       "      <td>1.4</td>\n",
       "      <td>0.2</td>\n",
       "    </tr>\n",
       "  </tbody>\n",
       "</table>\n",
       "</div>"
      ],
      "text/plain": [
       "   sepal length (cm)  sepal width (cm)  petal length (cm)  petal width (cm)\n",
       "0                5.1               3.5                1.4               0.2\n",
       "1                4.9               3.0                1.4               0.2\n",
       "2                4.7               3.2                1.3               0.2\n",
       "3                4.6               3.1                1.5               0.2\n",
       "4                5.0               3.6                1.4               0.2"
      ]
     },
     "execution_count": 11,
     "metadata": {},
     "output_type": "execute_result"
    }
   ],
   "source": [
    "#valitaan load_iris datasetti ja luodaan siitä pandas dataframe\n",
    "iris_data = pd.DataFrame(datasets.load_iris().data)\n",
    "#määritellää sarakkeiden nimet\n",
    "iris_data.columns = datasets.load_iris().feature_names\n",
    "\n",
    "#tarkastellaan datasetin 5 ensimmäistä otosta\n",
    "iris_data.head(5)"
   ]
  },
  {
   "cell_type": "code",
   "execution_count": 16,
   "metadata": {},
   "outputs": [
    {
     "data": {
      "text/html": [
       "<div>\n",
       "<style scoped>\n",
       "    .dataframe tbody tr th:only-of-type {\n",
       "        vertical-align: middle;\n",
       "    }\n",
       "\n",
       "    .dataframe tbody tr th {\n",
       "        vertical-align: top;\n",
       "    }\n",
       "\n",
       "    .dataframe thead th {\n",
       "        text-align: right;\n",
       "    }\n",
       "</style>\n",
       "<table border=\"1\" class=\"dataframe\">\n",
       "  <thead>\n",
       "    <tr style=\"text-align: right;\">\n",
       "      <th></th>\n",
       "      <th>a</th>\n",
       "      <th>b</th>\n",
       "      <th>c</th>\n",
       "      <th>d</th>\n",
       "    </tr>\n",
       "  </thead>\n",
       "  <tbody>\n",
       "    <tr>\n",
       "      <td>0</td>\n",
       "      <td>5.1</td>\n",
       "      <td>3.5</td>\n",
       "      <td>1.4</td>\n",
       "      <td>0.2</td>\n",
       "    </tr>\n",
       "    <tr>\n",
       "      <td>1</td>\n",
       "      <td>4.9</td>\n",
       "      <td>3.0</td>\n",
       "      <td>1.4</td>\n",
       "      <td>0.2</td>\n",
       "    </tr>\n",
       "    <tr>\n",
       "      <td>2</td>\n",
       "      <td>4.7</td>\n",
       "      <td>3.2</td>\n",
       "      <td>1.3</td>\n",
       "      <td>0.2</td>\n",
       "    </tr>\n",
       "    <tr>\n",
       "      <td>3</td>\n",
       "      <td>4.6</td>\n",
       "      <td>3.1</td>\n",
       "      <td>1.5</td>\n",
       "      <td>0.2</td>\n",
       "    </tr>\n",
       "    <tr>\n",
       "      <td>4</td>\n",
       "      <td>5.0</td>\n",
       "      <td>3.6</td>\n",
       "      <td>1.4</td>\n",
       "      <td>0.2</td>\n",
       "    </tr>\n",
       "  </tbody>\n",
       "</table>\n",
       "</div>"
      ],
      "text/plain": [
       "     a    b    c    d\n",
       "0  5.1  3.5  1.4  0.2\n",
       "1  4.9  3.0  1.4  0.2\n",
       "2  4.7  3.2  1.3  0.2\n",
       "3  4.6  3.1  1.5  0.2\n",
       "4  5.0  3.6  1.4  0.2"
      ]
     },
     "execution_count": 16,
     "metadata": {},
     "output_type": "execute_result"
    }
   ],
   "source": [
    "#muutetaan sarakkeiden nimet \n",
    "iris_data.columns = ('a', 'b', 'c', 'd')\n",
    "iris_data.head(5)"
   ]
  },
  {
   "cell_type": "code",
   "execution_count": 22,
   "metadata": {},
   "outputs": [
    {
     "data": {
      "text/plain": [
       "0    5.1\n",
       "1    4.9\n",
       "2    4.7\n",
       "3    4.6\n",
       "4    5.0\n",
       "Name: a, dtype: float64"
      ]
     },
     "execution_count": 22,
     "metadata": {},
     "output_type": "execute_result"
    }
   ],
   "source": [
    "#tarkastellaan ensimmäistä saraketta\n",
    "iris_data['a'].head(5)"
   ]
  },
  {
   "cell_type": "code",
   "execution_count": null,
   "metadata": {},
   "outputs": [],
   "source": []
  }
 ],
 "metadata": {
  "kernelspec": {
   "display_name": "Python 3",
   "language": "python",
   "name": "python3"
  },
  "language_info": {
   "codemirror_mode": {
    "name": "ipython",
    "version": 3
   },
   "file_extension": ".py",
   "mimetype": "text/x-python",
   "name": "python",
   "nbconvert_exporter": "python",
   "pygments_lexer": "ipython3",
   "version": "3.7.4"
  }
 },
 "nbformat": 4,
 "nbformat_minor": 2
}
